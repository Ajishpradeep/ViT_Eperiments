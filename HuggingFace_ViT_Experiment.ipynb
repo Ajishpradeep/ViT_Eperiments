{
  "cells": [
    {
      "cell_type": "markdown",
      "metadata": {
        "id": "view-in-github",
        "colab_type": "text"
      },
      "source": [
        "<a href=\"https://colab.research.google.com/github/Ajishpradeep/ViT_Eperiments/blob/main/HuggingFace_ViT_Experiment.ipynb\" target=\"_parent\"><img src=\"https://colab.research.google.com/assets/colab-badge.svg\" alt=\"Open In Colab\"/></a>"
      ]
    },
    {
      "cell_type": "code",
      "execution_count": null,
      "metadata": {
        "id": "PHEm9MkpSfpp"
      },
      "outputs": [],
      "source": [
        "# Install required packages\n",
        "!pip install transformers\n",
        "!pip install validators"
      ]
    },
    {
      "cell_type": "code",
      "execution_count": null,
      "metadata": {
        "id": "sq5hJoxqTWxR"
      },
      "outputs": [],
      "source": [
        "import urllib\n",
        "import cv2 as cv2\n",
        "from google.colab.patches import cv2_imshow\n",
        "import numpy as np\n",
        "import validators\n",
        "\n",
        "# Prompt user to enter the image URL\n",
        "image_url = input(\"Enter Image URL: \")\n",
        "\n",
        "# Validate the URL\n",
        "valid = validators.url(image_url)\n",
        "\n",
        "if valid:\n",
        "    # If the URL is valid, retrieve the image from the web\n",
        "    url_response = urllib.request.urlopen(image_url)\n",
        "    img_array = np.array(bytearray(url_response.read()), dtype=np.uint8)\n",
        "    img = cv2.imdecode(img_array, -1)\n",
        "    print(\"Image is from the web\")\n",
        "else:\n",
        "    # If the URL is not valid, assume it's a local file path and read the image\n",
        "    img = cv2.imread(image_url)\n",
        "    print(\"Image is from local\")\n",
        "\n",
        "# Display the image\n",
        "cv2_imshow(img)\n",
        "cv2.waitKey(0)\n",
        "cv2.destroyAllWindows()"
      ]
    },
    {
      "cell_type": "code",
      "execution_count": null,
      "metadata": {
        "id": "260Tiz2qV5W5"
      },
      "outputs": [],
      "source": [
        "# Perform Visual Question Answering using the VILT model\n",
        "from transformers import pipeline\n",
        "oracle = pipeline(model=\"dandelin/vilt-b32-finetuned-vqa\")\n",
        "question = input(\"Your Question: \")\n",
        "result = oracle(question=question, image=image_url, top_k=1)\n",
        "print(result)"
      ]
    },
    {
      "cell_type": "code",
      "execution_count": null,
      "metadata": {
        "id": "q8KB5vOhW7Vi"
      },
      "outputs": [],
      "source": [
        "# Estimate depth of the image using the DPT model\n",
        "from transformers import pipeline\n",
        "depth_estimator = pipeline(task=\"depth-estimation\", model=\"Intel/dpt-large\")\n",
        "output = depth_estimator(image_url)\n",
        "# This is a tensor with the values being the depth expressed\n",
        "# in meters for each pixel\n",
        "output[\"depth\"]"
      ]
    }
  ],
  "metadata": {
    "colab": {
      "provenance": [],
      "authorship_tag": "ABX9TyPguLvtCG6AS92uP9SANl/P",
      "include_colab_link": true
    },
    "kernelspec": {
      "display_name": "Python 3",
      "name": "python3"
    },
    "language_info": {
      "name": "python"
    }
  },
  "nbformat": 4,
  "nbformat_minor": 0
}